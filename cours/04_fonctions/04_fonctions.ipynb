{
 "cells": [
  {
   "cell_type": "markdown",
   "source": [
    "# Cours 4 : les fonctions en Python"
   ],
   "metadata": {
    "slideshow": {
     "slide_type": "slide"
    }
   }
  },
  {
   "cell_type": "markdown",
   "source": [
    "## 0. Écriture de programme\n",
    "\n",
    "Jusqu'à maintenant on a écrit seulement quelques lignes de Python avec évaluation\n",
    "immédiate de leur effet. Nous allons maintenant écrire des *scripts* ou *programmes*, qui sont plus long et dépendent éventuellement d'arguments fournis au lancement du programme.\n",
    "\n",
    "Pour cela, nous allons utiliser un éditeur de texte (VS Code) et un interpréteur Python (celui qui est lié à VS Code mais qui peut également être appelé depuis le terminal).\n",
    "\n",
    "**Démonstration des outils**"
   ],
   "metadata": {
    "slideshow": {
     "slide_type": "slide"
    }
   }
  },
  {
   "cell_type": "markdown",
   "source": [
    "Ici, faire une démo de l'écriture d'un programme dans VS Code avec exécution du programme.  \n",
    "Puis exécution du même programme avec le shell pour montrer qu'il se passe la même chose."
   ],
   "metadata": {
    "slideshow": {
     "slide_type": "notes"
    }
   }
  },
  {
   "cell_type": "markdown",
   "source": [
    "## 1. Utilité des fonctions en programmation\n",
    "\n",
    "\n",
    "Quand on écrit un code il est très fréquent d'utiliser la même fonctionnalité plusieurs fois. \n",
    "Quand ces fonctionnalités sont très communes, la librairie standard de Python ou des librairies externes vont vous fournir des fonctions déjà codées. Nous avons par exemple vu les fonctions `capitalize`, `random.randint` ou `math.cos`.\n",
    "\n",
    "\n",
    "Par ailleurs les fonctions permettent de découper le code en petites unités compréhensibles et indépendantes, ce qui le rend plus facile à comprendre et analyser.\n"
   ],
   "metadata": {
    "slideshow": {
     "slide_type": "slide"
    }
   }
  },
  {
   "cell_type": "code",
   "execution_count": null,
   "source": [
    "#exemple de code pour lequel une fonction est utile car on l'appelle plusieurs fois\r\n",
    "\r\n",
    "def chiffre(chaine, cle):\r\n",
    "    \"\"\" Retourne une chaîne de caractères chiffrée en décalant chaque lettre de chaine par l'entier cle\"\"\" \r\n",
    "    res = ''\r\n",
    "    for c in chaine:\r\n",
    "        res += chr(ord(c) + cle)\r\n",
    "    return res\r\n",
    "\r\n",
    "#rien ne s'affiche à l'exécution: on a défini une fonction mais aucune instruction n'a été exécutée"
   ],
   "outputs": [],
   "metadata": {
    "slideshow": {
     "slide_type": "subslide"
    }
   }
  },
  {
   "cell_type": "code",
   "execution_count": null,
   "source": [
    "#pour comprendre ce que font des fonctions inconnus, utiliser help    \r\n",
    "#cela affiche le docstring de la fonction\r\n",
    "help(chr)  #transforme un code unicode de caractère en la chaine contenant ce caractère\r\n",
    "help(ord)  #transforme une chaine contenant un caractère en un code unicode\r\n",
    "help(chiffre)"
   ],
   "outputs": [],
   "metadata": {
    "slideshow": {
     "slide_type": "fragment"
    }
   }
  },
  {
   "cell_type": "code",
   "execution_count": null,
   "source": [
    "help(chiffre)\r\n",
    "message_chiffre = chiffre(input(),1) \r\n",
    "print(message_chiffre)\r\n",
    "message_dechiffre = chiffre(message_chiffre, -1)\r\n",
    "print(message_dechiffre)"
   ],
   "outputs": [],
   "metadata": {
    "slideshow": {
     "slide_type": "fragment"
    }
   }
  },
  {
   "cell_type": "markdown",
   "source": [
    "En mathématique une fonction s'écrit f: x $\\rightarrow$ f(x).\n",
    "Il y a trois parties dans la fonction: f son *nom*, x son *argument* et \n",
    "*f(x)* son image (valeur/résultat).\n",
    "\n",
    "Quelques exemples que vous connaissez bien:\n",
    "* $f(x) = ax + b$\n",
    "* $f(x) = x^2$\n",
    "* $f(x) = 2^x$\n",
    "* $f(x) = |x|$\n",
    "* $f(x,y) = x + y$\n",
    "\n",
    "\n",
    "C'est la même chose quand on programme, une fonction associe à un argument\n",
    "un résultat. L'argument et le résultat peuvent être arbitrairement complexes (des tuples ou des fonctions par exemple)."
   ],
   "metadata": {
    "slideshow": {
     "slide_type": "subslide"
    }
   }
  },
  {
   "cell_type": "markdown",
   "source": [
    "On peut donner des exemples de fonction dans d'autres cadres qui ne sont pas des mathématiques.\n",
    "Par exemple en cuisine, on peut définir les fonctions couper(aliment), mélanger(aliment1, aliment2) et cuire(aliment), trois fonctions bien utiles pour écrire une recette (= programme)."
   ],
   "metadata": {
    "slideshow": {
     "slide_type": "notes"
    }
   }
  },
  {
   "cell_type": "markdown",
   "source": [
    "## 2. Définir une fonction en Python\n",
    "---\n",
    "Syntaxe de déclaration d'une fonction (signature de la fonction):\n",
    "\n",
    "* Une fonction est introduite grâce au mot clé `def`\n",
    "* On indique ensuite son nom\n",
    "* On donne sa liste d'arguments entre parenthèses\n",
    "* On termine la ligne par `:`\n",
    "\n",
    "\n",
    "Notez que le type des arguments n'est pas précisé, contrairement à la plupart des langages\n",
    "de programmation. On peut donner une fonction comme argument à une autre fonction.\n"
   ],
   "metadata": {
    "slideshow": {
     "slide_type": "slide"
    }
   }
  },
  {
   "cell_type": "code",
   "execution_count": null,
   "source": [
    "def multiplie(x,y):\r\n",
    "    pass    #instruction qui ne fait rien"
   ],
   "outputs": [],
   "metadata": {
    "slideshow": {
     "slide_type": "fragment"
    }
   }
  },
  {
   "cell_type": "markdown",
   "source": [
    "Tester le code précédent avec ou sans `pass`. Il faut que le corps de la fonction soit non-vide.\n",
    "On peut voir que `pass` ne fait rien. "
   ],
   "metadata": {
    "slideshow": {
     "slide_type": "notes"
    }
   }
  },
  {
   "cell_type": "markdown",
   "source": [
    "Le corps de la fonction est un bloc de code *indenté*, qui vient après sa déclaration. \n",
    "Il peut être précédé d'un commentaire, appelé **docstring** qui sert à générer la documentation automatique de `help()`. Un docstring est entouré de trois guillemets: `\"\"\" docstring \"\"\"`."
   ],
   "metadata": {
    "slideshow": {
     "slide_type": "subslide"
    }
   }
  },
  {
   "cell_type": "code",
   "execution_count": 1,
   "source": [
    "def multiplie(x):\r\n",
    "    \"\"\" Cette fonction multiplie son argument par 2 et l'affiche\"\"\"\r\n",
    "    print(x*2)\r\n",
    "\r\n",
    "help(multiplie)\r\n",
    "multiplie(7)\r\n",
    "multiplie(\"aaa\")"
   ],
   "outputs": [
    {
     "output_type": "stream",
     "name": "stdout",
     "text": [
      "Help on function multiplie in module __main__:\n",
      "\n",
      "multiplie(x)\n",
      "    Cette fonction multiplie son argument par 2 et l'affiche\n",
      "\n",
      "14\n",
      "aaaaaa\n"
     ]
    }
   ],
   "metadata": {
    "slideshow": {
     "slide_type": "fragment"
    }
   }
  },
  {
   "cell_type": "code",
   "execution_count": null,
   "source": [
    "#Que fait ce code si on l'exécute ?\r\n",
    "def incremente(x):\r\n",
    "    x +=  1\r\n",
    "    z = 2\r\n",
    "\r\n",
    "incremente(2)\r\n",
    "print(x)\r\n",
    "#print(z)\r\n"
   ],
   "outputs": [],
   "metadata": {
    "slideshow": {
     "slide_type": "subslide"
    }
   }
  },
  {
   "cell_type": "markdown",
   "source": [
    "Les variables définies dans une fonction sont appelées **variables locales**. \n",
    "\n",
    "La portée d'une variable locale est limitée à la fonction où elle a été définie, \n",
    "on ne peut pas y faire référence en dehors."
   ],
   "metadata": {
    "slideshow": {
     "slide_type": "fragment"
    }
   }
  },
  {
   "cell_type": "markdown",
   "source": [
    "Les fonctions retournent une **valeur**, celle donnée après le mot clé `return`.\n",
    "Même les fonctions qui n'ont pas d'instruction return, ou qui terminent en finissant d'exécuter le bloc de code\n",
    "sans atteindre un return, retournent la valeur `None`.\n"
   ],
   "metadata": {
    "slideshow": {
     "slide_type": "subslide"
    }
   }
  },
  {
   "cell_type": "code",
   "execution_count": null,
   "source": [
    "def avec_retour(x):\r\n",
    "    return x + 1\r\n",
    "\r\n",
    "def sans_retour(x):\r\n",
    "    x = x + 1\r\n",
    "    \r\n",
    "print(type(avec_retour(0)),avec_retour(0))\r\n",
    "print(type(sans_retour(0)),sans_retour(0))\r\n"
   ],
   "outputs": [],
   "metadata": {
    "slideshow": {
     "slide_type": "fragment"
    }
   }
  },
  {
   "cell_type": "markdown",
   "source": [
    "**Attention**, une fonction termine dès qu'elle atteint le mot clé `return`.\n",
    "C'est utile pour gérer le flot d'exécution d'une fonction."
   ],
   "metadata": {
    "slideshow": {
     "slide_type": "subslide"
    }
   }
  },
  {
   "cell_type": "code",
   "execution_count": null,
   "source": [
    "def un():\r\n",
    "    return 1\r\n",
    "    print(\"je ne serai jamais atteint\")\r\n",
    "    \r\n",
    "    \r\n",
    "un()\r\n",
    "\r\n",
    "def cherche(x,l):\r\n",
    "    for elem in l:\r\n",
    "        1 / elem #erreur quand elem vaut 0\r\n",
    "        if(x == elem):\r\n",
    "            return 1\r\n",
    "    return 0\r\n",
    "\r\n",
    "cherche(10, [1,10,0]) #la valeur 0 n'est pas atteinte car on trouve 10 avant\r\n"
   ],
   "outputs": [],
   "metadata": {
    "slideshow": {
     "slide_type": "fragment"
    }
   }
  },
  {
   "cell_type": "markdown",
   "source": [
    "En Python, on peut utiliser des types de retour complexes (contrairement à C par exemple).\n",
    "\n",
    "On peut par exemple renvoyer des tuples de valeurs, ce qui est souvent pratique."
   ],
   "metadata": {
    "slideshow": {
     "slide_type": "subslide"
    }
   }
  },
  {
   "cell_type": "code",
   "execution_count": null,
   "source": [
    "def ordonne(a, b):\r\n",
    "    if a < b:\r\n",
    "        return a, b\r\n",
    "    else:\r\n",
    "        return b, a\r\n",
    "    \r\n",
    "print(ordonne(10, 5))"
   ],
   "outputs": [],
   "metadata": {
    "slideshow": {
     "slide_type": "fragment"
    }
   }
  },
  {
   "cell_type": "markdown",
   "source": [
    "## 3. Évaluation d'une fonction\n",
    "\n",
    "* les arguments sont des variables locales à la fonction\n",
    "* les arguments sont passés par la copie d'une référence sur l'objet donné en argument\n",
    "* le corps de la fonction est évalué comme un code normal et la fonction se termine soit à la fin du bloc de code indenté, soit quand une instruction `return` est atteinte\n",
    "* la fonction peut appeler une autre fonction ou elle-même (récursivité)\n"
   ],
   "metadata": {
    "slideshow": {
     "slide_type": "slide"
    }
   }
  },
  {
   "cell_type": "markdown",
   "source": [
    "On va illustrer l'appel de fonction en en exécutant un pas à pas grâce à:\n",
    "\n",
    "* [PythonTutor](http://pythontutor.com/visualize.html#mode=edit)\n",
    "* le debugger dans VS Code"
   ],
   "metadata": {
    "slideshow": {
     "slide_type": "subslide"
    }
   }
  },
  {
   "cell_type": "code",
   "execution_count": null,
   "source": [
    "#Évaluation, exécuté avec PythonTutor\r\n",
    "#Cas d'un objet immutable\r\n",
    "\r\n",
    "def incremente(x):\r\n",
    "    x += 1\r\n",
    "    \r\n",
    "y = 0\r\n",
    "incremente(y)\r\n",
    "print(y)\r\n"
   ],
   "outputs": [],
   "metadata": {
    "slideshow": {
     "slide_type": "subslide"
    }
   }
  },
  {
   "cell_type": "code",
   "execution_count": null,
   "source": [
    "# Référence sur une liste, on peut modifier son contenu (objet mutable)  \r\n",
    "def incrementeListe(l):\r\n",
    "    for i in range(len(l)):\r\n",
    "        l[i] += 1\r\n",
    "\r\n",
    "l = [3,4,5]\r\n",
    "incrementeListe(l)\r\n",
    "print(l)"
   ],
   "outputs": [],
   "metadata": {
    "slideshow": {
     "slide_type": "fragment"
    }
   }
  },
  {
   "cell_type": "code",
   "execution_count": null,
   "source": [
    "# Référence sur une liste, on ne peut pas modifier la liste elle même\r\n",
    "def supprimeListe(l):\r\n",
    "    l = []\r\n",
    "\r\n",
    "l = [3,4,5]\r\n",
    "supprimeListe(l)\r\n",
    "print(l)"
   ],
   "outputs": [],
   "metadata": {
    "slideshow": {
     "slide_type": "fragment"
    }
   }
  },
  {
   "cell_type": "markdown",
   "source": [
    "Les variables définies hors des fonctions sont **globales** par opposition aux variables **locales** des fonctions. On peut les utiliser dans toutes les fonctions *sauf si elles ont été redéfinies localement*. \n",
    "\n",
    "Par contre on ne peut pas changer leur valeur à l'intérieur d'une fonction, sauf à spécifier dans la fonction\n",
    "que la variable est globale par le mot clé `global`.\n",
    " \n",
    "Il est *déconseillé* de faire usage de ce mot clé et des variables globales en général."
   ],
   "metadata": {
    "slideshow": {
     "slide_type": "subslide"
    }
   }
  },
  {
   "cell_type": "code",
   "execution_count": null,
   "source": [
    "x = 1\r\n",
    "print(x)\r\n",
    "\r\n",
    "def affiche(): #utilisation d'une variable globale\r\n",
    "    print(x)\r\n",
    "    \r\n",
    "x += 3\r\n",
    "affiche()\r\n",
    "\r\n",
    "def ajoute(): #modification d'une variable globale\r\n",
    "    x += 1\r\n",
    "\r\n",
    "def multiplie():  #modification d'une variable globale en précisant qu'elle est globale dans le code\r\n",
    "    global x\r\n",
    "    x *= 2\r\n",
    "    \r\n",
    "ajoute()\r\n",
    "print(x)\r\n",
    "multiplie()\r\n",
    "print(x)"
   ],
   "outputs": [],
   "metadata": {
    "slideshow": {
     "slide_type": "fragment"
    }
   }
  },
  {
   "cell_type": "markdown",
   "source": [
    "## 4. Représentation des arguments dans un appel de fonction\n",
    "\n",
    "On peut donner des valeurs par défaut aux arguments d'une fonction\n",
    "de la manière suivante `def ma_fonction(pays, age = 1, nom = \"toto\")`.\n",
    "\n",
    "Les variables ayant une valeur par défaut peuvent être omises.\n",
    "\n"
   ],
   "metadata": {
    "slideshow": {
     "slide_type": "slide"
    }
   }
  },
  {
   "cell_type": "code",
   "execution_count": null,
   "source": [
    "def ma_fonction(pays, age = 1, nom = \"toto\"):\r\n",
    "    print(nom,\" a \", age, \"ans et vit en \", pays)\r\n",
    "    \r\n",
    "ma_fonction(\"france\")\r\n",
    "ma_fonction(\"allemagne\", 18, \"kurt\")\r\n",
    "ma_fonction(\"italie\", 77)"
   ],
   "outputs": [],
   "metadata": {
    "slideshow": {
     "slide_type": "fragment"
    }
   }
  },
  {
   "cell_type": "markdown",
   "source": [
    "On peut également donner les arguments dans le désordre en spécifiant leur nom."
   ],
   "metadata": {
    "slideshow": {
     "slide_type": "subslide"
    }
   }
  },
  {
   "cell_type": "code",
   "execution_count": null,
   "source": [
    "ma_fonction(nom = \"kader\", age = 18, pays = \"algérie\")\r\n",
    "ma_fonction(\"france\", nom = \"sylvie\")"
   ],
   "outputs": [],
   "metadata": {
    "slideshow": {
     "slide_type": "fragment"
    }
   }
  },
  {
   "cell_type": "markdown",
   "source": [
    "Il est possible d'utiliser une liste d'arguments de taille variable. Néanmoins,\n",
    "ce sujet plus avancé et optionnel ne sera pas abordé en première année. \n"
   ],
   "metadata": {
    "slideshow": {
     "slide_type": "notes"
    }
   }
  },
  {
   "cell_type": "markdown",
   "source": [
    "## 5. Fonctions anonymes: lambda expressions\n",
    "\n",
    "\n",
    "Pour définir une fonction courte, il existe une syntaxe alternative utilisant l'opérateur **lambda**.\n"
   ],
   "metadata": {
    "slideshow": {
     "slide_type": "slide"
    }
   }
  },
  {
   "cell_type": "code",
   "execution_count": null,
   "source": [
    "g = lambda x: x*2  \r\n",
    "print(g(2))\r\n",
    "\r\n",
    "#Attention la définition doit tenir sur une ligne. On ne peut pas utiliser des instructions de contrôle\r\n",
    "#dans la définition de la fonction.\r\n",
    "\r\n",
    "#h = lambda x: if x > 0:\r\n",
    "#                  return 1\r\n",
    "#              else:\r\n",
    "#                  return -1"
   ],
   "outputs": [],
   "metadata": {
    "slideshow": {
     "slide_type": "fragment"
    }
   }
  },
  {
   "cell_type": "markdown",
   "source": [
    "La fonction définie par un lambda est *anonyme*, c'est à dire qu'elle n'a pas de nom.\n",
    "C'est utile quand la fonction sert une seule fois, par exemple comme argument d'une autre fonction."
   ],
   "metadata": {
    "slideshow": {
     "slide_type": "subslide"
    }
   }
  },
  {
   "cell_type": "code",
   "execution_count": null,
   "source": [
    "\r\n",
    "print((lambda x: x*2)(3))\r\n",
    "\r\n",
    "list(map(lambda x: x*2,range(10)))#applique la fonction à chaque élément de range(10)\r\n"
   ],
   "outputs": [],
   "metadata": {
    "slideshow": {
     "slide_type": "fragment"
    }
   }
  },
  {
   "cell_type": "code",
   "execution_count": null,
   "source": [],
   "outputs": [],
   "metadata": {}
  }
 ],
 "metadata": {
  "celltoolbar": "Diaporama",
  "kernelspec": {
   "name": "python3",
   "display_name": "Python 3.9.7 64-bit ('l1-python': conda)"
  },
  "language_info": {
   "codemirror_mode": {
    "name": "ipython",
    "version": 3
   },
   "file_extension": ".py",
   "mimetype": "text/x-python",
   "name": "python",
   "nbconvert_exporter": "python",
   "pygments_lexer": "ipython3",
   "version": "3.9.7"
  },
  "interpreter": {
   "hash": "713e2bf6455f33cb13997811e48d7c692fdf5274fcac7d31d119e615a4a4b761"
  }
 },
 "nbformat": 4,
 "nbformat_minor": 1
}