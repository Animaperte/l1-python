{
 "cells": [
  {
   "cell_type": "code",
   "execution_count": 19,
   "metadata": {},
   "outputs": [
    {
     "name": "stdout",
     "output_type": "stream",
     "text": [
      "11.0\n",
      "\n",
      "12.333333333333334\n",
      "\n",
      "6.333333333333333\n",
      "\n",
      "14.333333333333334\n",
      "\n",
      "10.333333333333334\n"
     ]
    }
   ],
   "source": [
    "aw = (15+5+13)/3\n",
    "az = (10 + 8 + 19)/3\n",
    "ay = (3+9+7)/3\n",
    "av = (15+17+11)/3\n",
    "al = (9 + 10 + 12)/3\n",
    "Monfichier = open(\"notes.txt\", \"r\")\n",
    "for ligne in Monfichier:\n",
    "    print(ligne)\n",
    "Monfichier.close()\n",
    "\n",
    "Monfichier = open(\"moyenne\", \"w\")\n",
    "Monfichier.write(str(aw) + '\\n')\n",
    "Monfichier.write(str(az) + '\\n')\n",
    "Monfichier.write(str(ay) + '\\n')\n",
    "Monfichier.write(str(av) + '\\n')\n",
    "Monfichier.write(str(al))\n",
    "\n",
    "Monfichier.close()"
   ]
  }
 ],
 "metadata": {
  "interpreter": {
   "hash": "713e2bf6455f33cb13997811e48d7c692fdf5274fcac7d31d119e615a4a4b761"
  },
  "kernelspec": {
   "display_name": "Python 3.9.7 ('l1-python')",
   "language": "python",
   "name": "python3"
  },
  "language_info": {
   "codemirror_mode": {
    "name": "ipython",
    "version": 3
   },
   "file_extension": ".py",
   "mimetype": "text/x-python",
   "name": "python",
   "nbconvert_exporter": "python",
   "pygments_lexer": "ipython3",
   "version": "3.9.7"
  },
  "orig_nbformat": 4
 },
 "nbformat": 4,
 "nbformat_minor": 2
}
